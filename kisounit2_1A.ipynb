{
  "nbformat": 4,
  "nbformat_minor": 0,
  "metadata": {
    "colab": {
      "provenance": [],
      "collapsed_sections": [],
      "authorship_tag": "ABX9TyNkteWeO+AhfTyBbaWcFJXR",
      "include_colab_link": true
    },
    "kernelspec": {
      "name": "python3",
      "display_name": "Python 3"
    },
    "language_info": {
      "name": "python"
    },
    "accelerator": "GPU"
  },
  "cells": [
    {
      "cell_type": "markdown",
      "metadata": {
        "id": "view-in-github",
        "colab_type": "text"
      },
      "source": [
        "<a href=\"https://colab.research.google.com/github/Tsukimigusa/test/blob/main/kisounit2_1A.ipynb\" target=\"_parent\"><img src=\"https://colab.research.google.com/assets/colab-badge.svg\" alt=\"Open In Colab\"/></a>"
      ]
    },
    {
      "cell_type": "code",
      "execution_count": 3,
      "metadata": {
        "colab": {
          "base_uri": "https://localhost:8080/"
        },
        "id": "SfE5zghmvY1E",
        "outputId": "7e766e1a-4415-480f-e586-c67aba49e1f8"
      },
      "outputs": [
        {
          "output_type": "stream",
          "name": "stdout",
          "text": [
            "Pythonの練習です。\n"
          ]
        }
      ],
      "source": [
        "print(\"Pythonの練習です。\")"
      ]
    },
    {
      "cell_type": "code",
      "source": [
        "a=1\n",
        "print(a)"
      ],
      "metadata": {
        "colab": {
          "base_uri": "https://localhost:8080/"
        },
        "id": "RtHuM8ytv2Vn",
        "outputId": "08278a09-f25b-4ff0-8874-e9b7095499c1"
      },
      "execution_count": 4,
      "outputs": [
        {
          "output_type": "stream",
          "name": "stdout",
          "text": [
            "1\n"
          ]
        }
      ]
    },
    {
      "cell_type": "code",
      "source": [
        "a = 1 + 2\n",
        "b = 4 - 1 + 2\n",
        "c = (4 + 5) * 4\n",
        "d = 5 / (1 + 2 + 3)\n",
        "print (\"a =\", a, \"b =\", b, \"c =\", c, \"d =\", d)"
      ],
      "metadata": {
        "colab": {
          "base_uri": "https://localhost:8080/"
        },
        "id": "ZPOA56OXv861",
        "outputId": "8bebd867-f906-4fb4-c4b7-34e82eaca0aa"
      },
      "execution_count": 5,
      "outputs": [
        {
          "output_type": "stream",
          "name": "stdout",
          "text": [
            "a = 3 b = 5 c = 36 d = 0.8333333333333334\n"
          ]
        }
      ]
    },
    {
      "cell_type": "code",
      "source": [
        "# 配列(リスト)計算\n",
        "x = [0, 0]\n",
        "y = [0, 1]\n",
        "z = x + y"
      ],
      "metadata": {
        "id": "szlyRBqyv_69"
      },
      "execution_count": 6,
      "outputs": []
    },
    {
      "cell_type": "code",
      "source": [],
      "metadata": {
        "id": "Cjwg_F9jDuXj"
      },
      "execution_count": null,
      "outputs": []
    },
    {
      "cell_type": "code",
      "source": [
        "# 多次元配列の生成と参照\n",
        "x = [0, 0]\n",
        "y = [0, 1]\n",
        "z = [1, 1]\n",
        "w = [x, y, z]\n",
        "print(\"x[0] =\", x[0], \"y[1] =\",y[1], \"w[0] =\", w[0], \"w[1][1] =\", w[1][1])"
      ],
      "metadata": {
        "colab": {
          "base_uri": "https://localhost:8080/"
        },
        "id": "X-i6PEdgwIkD",
        "outputId": "514182f5-2b93-4e3a-cd7e-5ba4181f84d0"
      },
      "execution_count": 27,
      "outputs": [
        {
          "output_type": "stream",
          "name": "stdout",
          "text": [
            "x[0] = 0 y[1] = 1 w[0] = [0, 0] w[1][1] = 1\n"
          ]
        }
      ]
    },
    {
      "cell_type": "code",
      "source": [
        "w"
      ],
      "metadata": {
        "colab": {
          "base_uri": "https://localhost:8080/"
        },
        "id": "nlj0ObnkDxQr",
        "outputId": "9ba884cd-9e2b-4f5e-d519-5eec8209795f"
      },
      "execution_count": 28,
      "outputs": [
        {
          "output_type": "execute_result",
          "data": {
            "text/plain": [
              "[[0, 0], [0, 1], [1, 1]]"
            ]
          },
          "metadata": {},
          "execution_count": 28
        }
      ]
    },
    {
      "cell_type": "code",
      "source": [
        "import tensorflow as tf\n",
        "tf.test.gpu_device_name()"
      ],
      "metadata": {
        "id": "1uoqV1o2wLhP",
        "colab": {
          "base_uri": "https://localhost:8080/",
          "height": 36
        },
        "outputId": "ee3682b5-841c-4d57-8bc6-beaf78f3ca86"
      },
      "execution_count": 9,
      "outputs": [
        {
          "output_type": "execute_result",
          "data": {
            "text/plain": [
              "'/device:GPU:0'"
            ],
            "application/vnd.google.colaboratory.intrinsic+json": {
              "type": "string"
            }
          },
          "metadata": {},
          "execution_count": 9
        }
      ]
    },
    {
      "cell_type": "code",
      "source": [
        "# 連番配列の生成\n",
        "r = range(10)\n",
        "a = list(r)"
      ],
      "metadata": {
        "id": "QhaI3oFB30ZR"
      },
      "execution_count": 11,
      "outputs": []
    },
    {
      "cell_type": "code",
      "source": [
        "# 条件分岐\n",
        "a = 4\n",
        "if a >= 0:\n",
        "  print(\"aは0以上です。\")\n",
        "elif a < 0 and a >= -1:\n",
        "  print(\"aは-1以上、0未満です。\")\n",
        "else:\n",
        "  print(\"aは-1未満です。\")"
      ],
      "metadata": {
        "colab": {
          "base_uri": "https://localhost:8080/"
        },
        "id": "55kVQlGyAcR2",
        "outputId": "6e3dbc05-260b-4b26-aab4-78c22c4319d9"
      },
      "execution_count": 12,
      "outputs": [
        {
          "output_type": "stream",
          "name": "stdout",
          "text": [
            "aは0以上です。\n"
          ]
        }
      ]
    },
    {
      "cell_type": "code",
      "source": [
        "# 繰り返し\n",
        "input = [0, 1, 2, 3]\n",
        "for x in input:\n",
        "  print(x)\n",
        "x = 3\n",
        "while x < 7:\n",
        "  print (\"x =\", x)\n",
        "  x = x + 1"
      ],
      "metadata": {
        "colab": {
          "base_uri": "https://localhost:8080/"
        },
        "id": "voS--6xBBJSN",
        "outputId": "ef7da10c-881e-47ed-e427-6347a52a26aa"
      },
      "execution_count": 15,
      "outputs": [
        {
          "output_type": "stream",
          "name": "stdout",
          "text": [
            "0\n",
            "1\n",
            "2\n",
            "3\n",
            "x = 3\n",
            "x = 4\n",
            "x = 5\n",
            "x = 6\n"
          ]
        }
      ]
    },
    {
      "cell_type": "code",
      "source": [
        "# 関数の定義 \n",
        "def hello(): \n",
        "  print(\"こんにちは。\") \n",
        "\n",
        "def add(x, y):\n",
        "  z = x + y\n",
        "  return z\n",
        "\n",
        "def add_minus(x, y): \n",
        "  z = x + y \n",
        "  w = x - y \n",
        "  return z, w"
      ],
      "metadata": {
        "id": "CBVxYfbfBVMW"
      },
      "execution_count": 19,
      "outputs": []
    },
    {
      "cell_type": "code",
      "source": [
        "# 関数の呼び出し(実行) \n",
        "hello() \n",
        "\n",
        "z = add(1, 2) \n",
        "print(\"戻り値:\", z) \n",
        "z, w = add_minus(5, 1) \n",
        "print(\"戻り値: z =\", z, \" w =\", w)"
      ],
      "metadata": {
        "colab": {
          "base_uri": "https://localhost:8080/"
        },
        "id": "yqDXHz3IBwTf",
        "outputId": "58b21554-51f0-475a-9f54-5761a87f99c1"
      },
      "execution_count": 20,
      "outputs": [
        {
          "output_type": "stream",
          "name": "stdout",
          "text": [
            "こんにちは。\n",
            "戻り値: 3\n",
            "戻り値: z = 6  w = 4\n"
          ]
        }
      ]
    },
    {
      "cell_type": "code",
      "source": [
        "!pip list"
      ],
      "metadata": {
        "colab": {
          "base_uri": "https://localhost:8080/"
        },
        "id": "Ai4lmSyaB9Xo",
        "outputId": "1a5e9d4f-24eb-41c5-9cba-b53e09b08013"
      },
      "execution_count": 21,
      "outputs": [
        {
          "output_type": "stream",
          "name": "stdout",
          "text": [
            "Package                       Version\n",
            "----------------------------- ----------------------------\n",
            "absl-py                       1.2.0\n",
            "aeppl                         0.0.33\n",
            "aesara                        2.7.9\n",
            "aiohttp                       3.8.1\n",
            "aiosignal                     1.2.0\n",
            "alabaster                     0.7.12\n",
            "albumentations                1.2.1\n",
            "altair                        4.2.0\n",
            "appdirs                       1.4.4\n",
            "arviz                         0.12.1\n",
            "astor                         0.8.1\n",
            "astropy                       4.3.1\n",
            "astunparse                    1.6.3\n",
            "async-timeout                 4.0.2\n",
            "asynctest                     0.13.0\n",
            "atari-py                      0.2.9\n",
            "atomicwrites                  1.4.1\n",
            "attrs                         22.1.0\n",
            "audioread                     3.0.0\n",
            "autograd                      1.4\n",
            "Babel                         2.10.3\n",
            "backcall                      0.2.0\n",
            "beautifulsoup4                4.6.3\n",
            "bleach                        5.0.1\n",
            "blis                          0.7.8\n",
            "bokeh                         2.3.3\n",
            "branca                        0.5.0\n",
            "bs4                           0.0.1\n",
            "CacheControl                  0.12.11\n",
            "cached-property               1.5.2\n",
            "cachetools                    4.2.4\n",
            "catalogue                     2.0.8\n",
            "certifi                       2022.6.15\n",
            "cffi                          1.15.1\n",
            "cftime                        1.6.1\n",
            "chardet                       3.0.4\n",
            "charset-normalizer            2.1.1\n",
            "click                         7.1.2\n",
            "clikit                        0.6.2\n",
            "cloudpickle                   1.5.0\n",
            "cmake                         3.22.6\n",
            "cmdstanpy                     1.0.7\n",
            "colorcet                      3.0.0\n",
            "colorlover                    0.3.0\n",
            "community                     1.0.0b1\n",
            "cons                          0.4.5\n",
            "contextlib2                   0.5.5\n",
            "convertdate                   2.4.0\n",
            "crashtest                     0.3.1\n",
            "crcmod                        1.7\n",
            "cufflinks                     0.17.3\n",
            "cupy-cuda111                  9.4.0\n",
            "cvxopt                        1.3.0\n",
            "cvxpy                         1.2.1\n",
            "cycler                        0.11.0\n",
            "cymem                         2.0.6\n",
            "Cython                        0.29.32\n",
            "daft                          0.0.4\n",
            "dask                          2022.2.0\n",
            "datascience                   0.17.5\n",
            "debugpy                       1.0.0\n",
            "decorator                     4.4.2\n",
            "defusedxml                    0.7.1\n",
            "descartes                     1.1.0\n",
            "dill                          0.3.5.1\n",
            "distributed                   2022.2.0\n",
            "dlib                          19.24.0\n",
            "dm-tree                       0.1.7\n",
            "docutils                      0.17.1\n",
            "dopamine-rl                   1.0.5\n",
            "earthengine-api               0.1.323\n",
            "easydict                      1.9\n",
            "ecos                          2.0.10\n",
            "editdistance                  0.5.3\n",
            "en-core-web-sm                3.4.0\n",
            "entrypoints                   0.4\n",
            "ephem                         4.1.3\n",
            "et-xmlfile                    1.1.0\n",
            "etils                         0.7.1\n",
            "etuples                       0.3.8\n",
            "fa2                           0.3.5\n",
            "fastai                        2.7.9\n",
            "fastcore                      1.5.25\n",
            "fastdownload                  0.0.7\n",
            "fastdtw                       0.3.4\n",
            "fastjsonschema                2.16.1\n",
            "fastprogress                  1.0.3\n",
            "fastrlock                     0.8\n",
            "feather-format                0.4.1\n",
            "filelock                      3.8.0\n",
            "firebase-admin                4.4.0\n",
            "fix-yahoo-finance             0.0.22\n",
            "Flask                         1.1.4\n",
            "flatbuffers                   2.0.7\n",
            "folium                        0.12.1.post1\n",
            "frozenlist                    1.3.1\n",
            "fsspec                        2022.8.2\n",
            "future                        0.16.0\n",
            "gast                          0.5.3\n",
            "GDAL                          2.2.2\n",
            "gdown                         4.4.0\n",
            "gensim                        3.6.0\n",
            "geographiclib                 1.52\n",
            "geopy                         1.17.0\n",
            "gin-config                    0.5.0\n",
            "glob2                         0.7\n",
            "google                        2.0.3\n",
            "google-api-core               1.31.6\n",
            "google-api-python-client      1.12.11\n",
            "google-auth                   1.35.0\n",
            "google-auth-httplib2          0.0.4\n",
            "google-auth-oauthlib          0.4.6\n",
            "google-cloud-bigquery         1.21.0\n",
            "google-cloud-bigquery-storage 1.1.2\n",
            "google-cloud-core             1.0.3\n",
            "google-cloud-datastore        1.8.0\n",
            "google-cloud-firestore        1.7.0\n",
            "google-cloud-language         1.2.0\n",
            "google-cloud-storage          1.18.1\n",
            "google-cloud-translate        1.5.0\n",
            "google-colab                  1.0.0\n",
            "google-pasta                  0.2.0\n",
            "google-resumable-media        0.4.1\n",
            "googleapis-common-protos      1.56.4\n",
            "googledrivedownloader         0.4\n",
            "graphviz                      0.10.1\n",
            "greenlet                      1.1.3\n",
            "grpcio                        1.48.1\n",
            "gspread                       3.4.2\n",
            "gspread-dataframe             3.0.8\n",
            "gym                           0.25.2\n",
            "gym-notices                   0.0.8\n",
            "h5py                          3.1.0\n",
            "HeapDict                      1.0.1\n",
            "hijri-converter               2.2.4\n",
            "holidays                      0.15\n",
            "holoviews                     1.14.9\n",
            "html5lib                      1.0.1\n",
            "httpimport                    0.5.18\n",
            "httplib2                      0.17.4\n",
            "httplib2shim                  0.0.3\n",
            "httpstan                      4.6.1\n",
            "humanize                      0.5.1\n",
            "hyperopt                      0.1.2\n",
            "idna                          2.10\n",
            "imageio                       2.9.0\n",
            "imagesize                     1.4.1\n",
            "imbalanced-learn              0.8.1\n",
            "imblearn                      0.0\n",
            "imgaug                        0.4.0\n",
            "importlib-metadata            4.12.0\n",
            "importlib-resources           5.9.0\n",
            "imutils                       0.5.4\n",
            "inflect                       2.1.0\n",
            "intel-openmp                  2022.1.0\n",
            "intervaltree                  2.1.0\n",
            "ipykernel                     5.3.4\n",
            "ipython                       7.9.0\n",
            "ipython-genutils              0.2.0\n",
            "ipython-sql                   0.3.9\n",
            "ipywidgets                    7.7.1\n",
            "itsdangerous                  1.1.0\n",
            "jax                           0.3.17\n",
            "jaxlib                        0.3.15+cuda11.cudnn805\n",
            "jieba                         0.42.1\n",
            "Jinja2                        2.11.3\n",
            "joblib                        1.1.0\n",
            "jpeg4py                       0.1.4\n",
            "jsonschema                    4.3.3\n",
            "jupyter-client                6.1.12\n",
            "jupyter-console               6.1.0\n",
            "jupyter-core                  4.11.1\n",
            "jupyterlab-widgets            3.0.3\n",
            "kaggle                        1.5.12\n",
            "kapre                         0.3.7\n",
            "keras                         2.8.0\n",
            "Keras-Preprocessing           1.1.2\n",
            "keras-vis                     0.4.1\n",
            "kiwisolver                    1.4.4\n",
            "korean-lunar-calendar         0.2.1\n",
            "langcodes                     3.3.0\n",
            "libclang                      14.0.6\n",
            "librosa                       0.8.1\n",
            "lightgbm                      2.2.3\n",
            "llvmlite                      0.39.1\n",
            "lmdb                          0.99\n",
            "locket                        1.0.0\n",
            "logical-unification           0.4.5\n",
            "LunarCalendar                 0.0.9\n",
            "lxml                          4.9.1\n",
            "Markdown                      3.4.1\n",
            "MarkupSafe                    2.0.1\n",
            "marshmallow                   3.17.1\n",
            "matplotlib                    3.2.2\n",
            "matplotlib-venn               0.11.7\n",
            "miniKanren                    1.0.3\n",
            "missingno                     0.5.1\n",
            "mistune                       0.8.4\n",
            "mizani                        0.7.3\n",
            "mkl                           2019.0\n",
            "mlxtend                       0.14.0\n",
            "more-itertools                8.14.0\n",
            "moviepy                       0.2.3.5\n",
            "mpmath                        1.2.1\n",
            "msgpack                       1.0.4\n",
            "multidict                     6.0.2\n",
            "multipledispatch              0.6.0\n",
            "multitasking                  0.0.11\n",
            "murmurhash                    1.0.8\n",
            "music21                       5.5.0\n",
            "natsort                       5.5.0\n",
            "nbconvert                     5.6.1\n",
            "nbformat                      5.4.0\n",
            "netCDF4                       1.6.0\n",
            "networkx                      2.6.3\n",
            "nibabel                       3.0.2\n",
            "nltk                          3.7\n",
            "notebook                      5.3.1\n",
            "numba                         0.56.2\n",
            "numexpr                       2.8.3\n",
            "numpy                         1.21.6\n",
            "oauth2client                  4.1.3\n",
            "oauthlib                      3.2.0\n",
            "okgrade                       0.4.3\n",
            "opencv-contrib-python         4.6.0.66\n",
            "opencv-python                 4.6.0.66\n",
            "opencv-python-headless        4.6.0.66\n",
            "openpyxl                      3.0.10\n",
            "opt-einsum                    3.3.0\n",
            "osqp                          0.6.2.post0\n",
            "packaging                     21.3\n",
            "palettable                    3.3.0\n",
            "pandas                        1.3.5\n",
            "pandas-datareader             0.9.0\n",
            "pandas-gbq                    0.13.3\n",
            "pandas-profiling              1.4.1\n",
            "pandocfilters                 1.5.0\n",
            "panel                         0.12.1\n",
            "param                         1.12.2\n",
            "parso                         0.8.3\n",
            "partd                         1.3.0\n",
            "pastel                        0.2.1\n",
            "pathlib                       1.0.1\n",
            "pathy                         0.6.2\n",
            "patsy                         0.5.2\n",
            "pep517                        0.13.0\n",
            "pexpect                       4.8.0\n",
            "pickleshare                   0.7.5\n",
            "Pillow                        7.1.2\n",
            "pip                           21.1.3\n",
            "pip-tools                     6.2.0\n",
            "plotly                        5.5.0\n",
            "plotnine                      0.8.0\n",
            "pluggy                        0.7.1\n",
            "pooch                         1.6.0\n",
            "portpicker                    1.3.9\n",
            "prefetch-generator            1.0.1\n",
            "preshed                       3.0.7\n",
            "prettytable                   3.4.1\n",
            "progressbar2                  3.38.0\n",
            "promise                       2.3\n",
            "prompt-toolkit                2.0.10\n",
            "prophet                       1.1\n",
            "protobuf                      3.17.3\n",
            "psutil                        5.4.8\n",
            "psycopg2                      2.9.3\n",
            "ptyprocess                    0.7.0\n",
            "py                            1.11.0\n",
            "pyarrow                       6.0.1\n",
            "pyasn1                        0.4.8\n",
            "pyasn1-modules                0.2.8\n",
            "pycocotools                   2.0.4\n",
            "pycparser                     2.21\n",
            "pyct                          0.4.8\n",
            "pydantic                      1.9.2\n",
            "pydata-google-auth            1.4.0\n",
            "pydot                         1.3.0\n",
            "pydot-ng                      2.0.0\n",
            "pydotplus                     2.0.2\n",
            "PyDrive                       1.3.1\n",
            "pyemd                         0.5.1\n",
            "pyerfa                        2.0.0.1\n",
            "Pygments                      2.6.1\n",
            "pygobject                     3.26.1\n",
            "pylev                         1.4.0\n",
            "pymc                          4.1.4\n",
            "PyMeeus                       0.5.11\n",
            "pymongo                       4.2.0\n",
            "pymystem3                     0.2.0\n",
            "PyOpenGL                      3.1.6\n",
            "pyparsing                     3.0.9\n",
            "pyrsistent                    0.18.1\n",
            "pysimdjson                    3.2.0\n",
            "pysndfile                     1.3.8\n",
            "PySocks                       1.7.1\n",
            "pystan                        3.3.0\n",
            "pytest                        3.6.4\n",
            "python-apt                    0.0.0\n",
            "python-chess                  0.23.11\n",
            "python-dateutil               2.8.2\n",
            "python-louvain                0.16\n",
            "python-slugify                6.1.2\n",
            "python-utils                  3.3.3\n",
            "pytz                          2022.2.1\n",
            "pyviz-comms                   2.2.1\n",
            "PyWavelets                    1.3.0\n",
            "PyYAML                        6.0\n",
            "pyzmq                         23.2.1\n",
            "qdldl                         0.1.5.post2\n",
            "qudida                        0.0.4\n",
            "regex                         2022.6.2\n",
            "requests                      2.23.0\n",
            "requests-oauthlib             1.3.1\n",
            "resampy                       0.4.0\n",
            "rpy2                          3.4.5\n",
            "rsa                           4.9\n",
            "scikit-image                  0.18.3\n",
            "scikit-learn                  1.0.2\n",
            "scipy                         1.7.3\n",
            "screen-resolution-extra       0.0.0\n",
            "scs                           3.2.0\n",
            "seaborn                       0.11.2\n",
            "Send2Trash                    1.8.0\n",
            "setuptools                    57.4.0\n",
            "setuptools-git                1.2\n",
            "Shapely                       1.8.4\n",
            "six                           1.15.0\n",
            "sklearn-pandas                1.8.0\n",
            "smart-open                    5.2.1\n",
            "snowballstemmer               2.2.0\n",
            "sortedcontainers              2.4.0\n",
            "SoundFile                     0.10.3.post1\n",
            "spacy                         3.4.1\n",
            "spacy-legacy                  3.0.10\n",
            "spacy-loggers                 1.0.3\n",
            "Sphinx                        1.8.6\n",
            "sphinxcontrib-serializinghtml 1.1.5\n",
            "sphinxcontrib-websupport      1.2.4\n",
            "SQLAlchemy                    1.4.41\n",
            "sqlparse                      0.4.2\n",
            "srsly                         2.4.4\n",
            "statsmodels                   0.12.2\n",
            "sympy                         1.7.1\n",
            "tables                        3.7.0\n",
            "tabulate                      0.8.10\n",
            "tblib                         1.7.0\n",
            "tenacity                      8.0.1\n",
            "tensorboard                   2.8.0\n",
            "tensorboard-data-server       0.6.1\n",
            "tensorboard-plugin-wit        1.8.1\n",
            "tensorflow                    2.8.2+zzzcolab20220719082949\n",
            "tensorflow-datasets           4.6.0\n",
            "tensorflow-estimator          2.8.0\n",
            "tensorflow-gcs-config         2.8.0\n",
            "tensorflow-hub                0.12.0\n",
            "tensorflow-io-gcs-filesystem  0.26.0\n",
            "tensorflow-metadata           1.10.0\n",
            "tensorflow-probability        0.16.0\n",
            "termcolor                     1.1.0\n",
            "terminado                     0.13.3\n",
            "testpath                      0.6.0\n",
            "text-unidecode                1.3\n",
            "textblob                      0.15.3\n",
            "thinc                         8.1.0\n",
            "threadpoolctl                 3.1.0\n",
            "tifffile                      2021.11.2\n",
            "toml                          0.10.2\n",
            "tomli                         2.0.1\n",
            "toolz                         0.12.0\n",
            "torch                         1.12.1+cu113\n",
            "torchaudio                    0.12.1+cu113\n",
            "torchsummary                  1.5.1\n",
            "torchtext                     0.13.1\n",
            "torchvision                   0.13.1+cu113\n",
            "tornado                       5.1.1\n",
            "tqdm                          4.64.1\n",
            "traitlets                     5.1.1\n",
            "tweepy                        3.10.0\n",
            "typeguard                     2.7.1\n",
            "typer                         0.4.2\n",
            "typing-extensions             4.1.1\n",
            "tzlocal                       1.5.1\n",
            "ujson                         5.4.0\n",
            "uritemplate                   3.0.1\n",
            "urllib3                       1.24.3\n",
            "vega-datasets                 0.9.0\n",
            "wasabi                        0.10.1\n",
            "wcwidth                       0.2.5\n",
            "webargs                       8.2.0\n",
            "webencodings                  0.5.1\n",
            "Werkzeug                      1.0.1\n",
            "wheel                         0.37.1\n",
            "widgetsnbextension            3.6.1\n",
            "wordcloud                     1.8.2.2\n",
            "wrapt                         1.14.1\n",
            "xarray                        0.20.2\n",
            "xarray-einstats               0.2.2\n",
            "xgboost                       0.90\n",
            "xkit                          0.0.0\n",
            "xlrd                          1.1.0\n",
            "xlwt                          1.3.0\n",
            "yarl                          1.8.1\n",
            "yellowbrick                   1.5\n",
            "zict                          2.2.0\n",
            "zipp                          3.8.1\n"
          ]
        }
      ]
    },
    {
      "cell_type": "code",
      "source": [
        "tf.keras.__version__"
      ],
      "metadata": {
        "colab": {
          "base_uri": "https://localhost:8080/",
          "height": 36
        },
        "id": "UhvyjieVCqtW",
        "outputId": "7e573356-6607-4db0-a320-2124099d8b69"
      },
      "execution_count": 23,
      "outputs": [
        {
          "output_type": "execute_result",
          "data": {
            "text/plain": [
              "'2.8.0'"
            ],
            "application/vnd.google.colaboratory.intrinsic+json": {
              "type": "string"
            }
          },
          "metadata": {},
          "execution_count": 23
        }
      ]
    },
    {
      "cell_type": "code",
      "source": [
        "!cat\\etc\\issue"
      ],
      "metadata": {
        "colab": {
          "base_uri": "https://localhost:8080/"
        },
        "id": "uPKF-0DqC4SZ",
        "outputId": "c69ea294-97dd-4e29-bded-cd578dacfa59"
      },
      "execution_count": 24,
      "outputs": [
        {
          "output_type": "stream",
          "name": "stdout",
          "text": [
            "/bin/bash: catetcissue: command not found\n"
          ]
        }
      ]
    },
    {
      "cell_type": "code",
      "source": [
        "!nvidia-smi"
      ],
      "metadata": {
        "colab": {
          "base_uri": "https://localhost:8080/"
        },
        "id": "wyvDUSc7DH_x",
        "outputId": "1b1e1862-2858-4873-cefc-abc04f3b5231"
      },
      "execution_count": 25,
      "outputs": [
        {
          "output_type": "stream",
          "name": "stdout",
          "text": [
            "Fri Sep 23 01:53:25 2022       \n",
            "+-----------------------------------------------------------------------------+\n",
            "| NVIDIA-SMI 460.32.03    Driver Version: 460.32.03    CUDA Version: 11.2     |\n",
            "|-------------------------------+----------------------+----------------------+\n",
            "| GPU  Name        Persistence-M| Bus-Id        Disp.A | Volatile Uncorr. ECC |\n",
            "| Fan  Temp  Perf  Pwr:Usage/Cap|         Memory-Usage | GPU-Util  Compute M. |\n",
            "|                               |                      |               MIG M. |\n",
            "|===============================+======================+======================|\n",
            "|   0  Tesla T4            Off  | 00000000:00:04.0 Off |                    0 |\n",
            "| N/A   62C    P0    30W /  70W |    284MiB / 15109MiB |      0%      Default |\n",
            "|                               |                      |                  N/A |\n",
            "+-------------------------------+----------------------+----------------------+\n",
            "                                                                               \n",
            "+-----------------------------------------------------------------------------+\n",
            "| Processes:                                                                  |\n",
            "|  GPU   GI   CI        PID   Type   Process name                  GPU Memory |\n",
            "|        ID   ID                                                   Usage      |\n",
            "|=============================================================================|\n",
            "+-----------------------------------------------------------------------------+\n"
          ]
        }
      ]
    },
    {
      "cell_type": "code",
      "source": [
        "#1-1\n",
        "#_y = x1 * w1 + x2 * w2 + b\n",
        "#(x1, x2) = (2, 4), (w1, w2) = (3, 5), b = 1\n",
        "\n",
        "_y = 2 * 3 + 4 * 5 + 1"
      ],
      "metadata": {
        "id": "5cOzLc44DVpe"
      },
      "execution_count": 31,
      "outputs": []
    },
    {
      "cell_type": "code",
      "source": [
        "_y"
      ],
      "metadata": {
        "colab": {
          "base_uri": "https://localhost:8080/"
        },
        "id": "6O5QESe8DMQY",
        "outputId": "0adcfe82-a3ab-4d5d-ace2-9a60adcecc7d"
      },
      "execution_count": 32,
      "outputs": [
        {
          "output_type": "execute_result",
          "data": {
            "text/plain": [
              "27"
            ]
          },
          "metadata": {},
          "execution_count": 32
        }
      ]
    },
    {
      "cell_type": "code",
      "source": [
        "#1-2\n",
        "def _two_input_weight(x1, x2, w1, w2, b):\n",
        "  _y = x1 * w1 + x2 * w2 + b\n",
        "  return _y"
      ],
      "metadata": {
        "id": "dBk2c-a9E9dR"
      },
      "execution_count": 33,
      "outputs": []
    },
    {
      "cell_type": "code",
      "source": [
        "_two_input_weight(2, 4, 3, 5, 1)"
      ],
      "metadata": {
        "colab": {
          "base_uri": "https://localhost:8080/"
        },
        "id": "9owmozIPH9wi",
        "outputId": "16bee142-91c4-4601-c1be-02a065b08969"
      },
      "execution_count": 34,
      "outputs": [
        {
          "output_type": "execute_result",
          "data": {
            "text/plain": [
              "27"
            ]
          },
          "metadata": {},
          "execution_count": 34
        }
      ]
    },
    {
      "cell_type": "code",
      "source": [
        "#1-3\n",
        "def _activate_step(_y):\n",
        "  if _y >= 0:\n",
        "    y = 1\n",
        "  else:\n",
        "    y = 0\n",
        "  \n",
        "  return y"
      ],
      "metadata": {
        "id": "C-7ktqEGIMR8"
      },
      "execution_count": 35,
      "outputs": []
    },
    {
      "cell_type": "code",
      "source": [
        "print(f'引数  0 : {_activate_step(0)}')\n",
        "print(f'引数 -1 : {_activate_step(-1)}')"
      ],
      "metadata": {
        "colab": {
          "base_uri": "https://localhost:8080/"
        },
        "id": "OrCm9xHAIrCG",
        "outputId": "ffc985a9-b15b-43fa-f63b-dcde9a551bc8"
      },
      "execution_count": 38,
      "outputs": [
        {
          "output_type": "stream",
          "name": "stdout",
          "text": [
            "引数  0 : 1\n",
            "引数 -1 : 0\n"
          ]
        }
      ]
    },
    {
      "cell_type": "code",
      "source": [
        "#1-4\n",
        "def _two_input_perceptron(x1, x2, w1, w2, b):\n",
        "  _y = _two_input_weight(x1, x2, w1, w2, b)\n",
        "  y = _activate_step(_y)\n",
        "\n",
        "  return y"
      ],
      "metadata": {
        "id": "dTQIfr4II-6o"
      },
      "execution_count": 39,
      "outputs": []
    },
    {
      "cell_type": "code",
      "source": [
        "_two_input_perceptron(2, 4, 3, 5, 1)"
      ],
      "metadata": {
        "colab": {
          "base_uri": "https://localhost:8080/"
        },
        "id": "OOpO27u_KPVs",
        "outputId": "f7028972-8921-4b78-ccbf-47689657abd6"
      },
      "execution_count": 40,
      "outputs": [
        {
          "output_type": "execute_result",
          "data": {
            "text/plain": [
              "1"
            ]
          },
          "metadata": {},
          "execution_count": 40
        }
      ]
    },
    {
      "cell_type": "code",
      "source": [
        "#2-1\n",
        "# AND用重み、バイアス\n",
        "w1, w2 = 2, 1\n",
        "b = -3\n",
        "\n",
        "# AND用重み付き和\n",
        "def _and_weight(x1, x2, w1, w2, b):\n",
        "  _y = _two_input_weight(x1, x2, w1, w2, b)\n",
        "\n",
        "  return _y\n",
        "\n",
        "# AND用活性化関数\n",
        "def _and_activate(_y):\n",
        "  y = _activate_step(_y)\n",
        "\n",
        "  return y\n",
        "\n",
        "# AND関数\n",
        "def AND(x1, x2, w1, w2, b):\n",
        "  _y = _and_weight(x1, x2, w1, w2, b)\n",
        "  y = _and_activate(_y)\n",
        "\n",
        "  return y\n"
      ],
      "metadata": {
        "id": "BalOawapKVD3"
      },
      "execution_count": 41,
      "outputs": []
    },
    {
      "cell_type": "code",
      "source": [
        "#(0, 0)\n",
        "x1, x2 = 0, 0\n",
        "print(f'(0, 0) : {AND(x1, x2, w1, w2, b)}')\n",
        "\n",
        "#(1, 0)\n",
        "x1, x2 = 1, 0\n",
        "print(f'(1, 0) : {AND(x1, x2, w1, w2, b)}')\n",
        "\n",
        "#(0, 1)\n",
        "x1, x2 = 0, 1\n",
        "print(f'(0, 1) : {AND(x1, x2, w1, w2, b)}')\n",
        "\n",
        "#(1, 1)\n",
        "x1, x2 = 1, 1\n",
        "print(f'(1, 1) : {AND(x1, x2, w1, w2, b)}')"
      ],
      "metadata": {
        "colab": {
          "base_uri": "https://localhost:8080/"
        },
        "id": "fPJECbwULvhQ",
        "outputId": "ff3ab13f-ae76-4081-a47f-8a919ec95732"
      },
      "execution_count": 44,
      "outputs": [
        {
          "output_type": "stream",
          "name": "stdout",
          "text": [
            "(0, 0) : 0\n",
            "(1, 0) : 0\n",
            "(0, 1) : 0\n",
            "(1, 1) : 1\n"
          ]
        }
      ]
    },
    {
      "cell_type": "code",
      "source": [
        "#2-2\n",
        "# OR用重み、バイアス\n",
        "w1, w2 = 1, 1\n",
        "b = -1\n",
        "\n",
        "# OR用重み付き和\n",
        "def _or_weight(x1, x2, w1, w2, b):\n",
        "  _y = _two_input_weight(x1, x2, w1, w2, b)\n",
        "\n",
        "  return _y\n",
        "\n",
        "# OR用活性化関数\n",
        "def _or_activate(_y):\n",
        "  y = _activate_step(_y)\n",
        "\n",
        "  return y\n",
        "\n",
        "# OR関数\n",
        "def OR(x1, x2, w1, w2, b):\n",
        "  _y = _or_weight(x1, x2, w1, w2, b)\n",
        "  y = _or_activate(_y)\n",
        "\n",
        "  return y"
      ],
      "metadata": {
        "id": "CPMVom_eOBf8"
      },
      "execution_count": 51,
      "outputs": []
    },
    {
      "cell_type": "code",
      "source": [
        "#(0, 0)\n",
        "x1, x2 = 0, 0\n",
        "print(f'(0, 0) : {OR(x1, x2, w1, w2, b)}')\n",
        "\n",
        "#(1, 0)\n",
        "x1, x2 = 1, 0\n",
        "print(f'(1, 0) : {OR(x1, x2, w1, w2, b)}')\n",
        "\n",
        "#(0, 1)\n",
        "x1, x2 = 0, 1\n",
        "print(f'(0, 1) : {OR(x1, x2, w1, w2, b)}')\n",
        "\n",
        "#(1, 1)\n",
        "x1, x2 = 1, 1\n",
        "print(f'(1, 1) : {OR(x1, x2, w1, w2, b)}')"
      ],
      "metadata": {
        "colab": {
          "base_uri": "https://localhost:8080/"
        },
        "id": "z72duM8WP09W",
        "outputId": "eb015a9c-811a-4ff1-f6ff-cede81595d31"
      },
      "execution_count": 52,
      "outputs": [
        {
          "output_type": "stream",
          "name": "stdout",
          "text": [
            "(0, 0) : 0\n",
            "(1, 0) : 1\n",
            "(0, 1) : 1\n",
            "(1, 1) : 1\n"
          ]
        }
      ]
    },
    {
      "cell_type": "code",
      "source": [
        "#2-3\n",
        "# NOT用重み、バイアス\n",
        "w1 = -1\n",
        "b = 1\n",
        "\n",
        "# NOT関数\n",
        "def NOT(x1, w1, b):\n",
        "  _y = x1 * w1 + b\n",
        "  y = _activate_step(_y)\n",
        "\n",
        "  return y"
      ],
      "metadata": {
        "id": "JHPXNgqKP8An"
      },
      "execution_count": 55,
      "outputs": []
    },
    {
      "cell_type": "code",
      "source": [
        "#(0)\n",
        "x1 = 0\n",
        "print(f'(0) : {NOT(x1, w1, b)}')\n",
        "\n",
        "#(1)\n",
        "x1 = 1\n",
        "print(f'(1) : {NOT(x1, w1, b)}')"
      ],
      "metadata": {
        "colab": {
          "base_uri": "https://localhost:8080/"
        },
        "id": "FmV29QGVQ78K",
        "outputId": "615d36fc-f799-4f9e-bb2f-a13722341477"
      },
      "execution_count": 56,
      "outputs": [
        {
          "output_type": "stream",
          "name": "stdout",
          "text": [
            "(0) : 1\n",
            "(1) : 1\n"
          ]
        }
      ]
    },
    {
      "cell_type": "code",
      "source": [
        "#3-1\n",
        "def get_weight_deltas(x1, x2, w1, w2, b, t):\n",
        "  y = AND(x1, x2, w1, w2, b)\n",
        "\n",
        "  dw1 = (y - t) * x1\n",
        "  dw2 = (y - t) * x2\n",
        "  db = y - t\n",
        "\n",
        "  return dw1, dw2, db"
      ],
      "metadata": {
        "id": "-krVKFesROt9"
      },
      "execution_count": 57,
      "outputs": []
    },
    {
      "cell_type": "code",
      "source": [
        "#3-2\n",
        "def check_loss(dw1, dw2, db):\n",
        "  return (dw1 == 0) * (dw2 == 0) * (db == 0)\n",
        "\n",
        "def update_weight(x1, x2, w1, w2, b, t):\n",
        "  dw1, dw2, db = get_weight_deltas(x1, x2, w1, w2, b, t)\n",
        "  print(\"dw1, dw2, db =\", dw1, dw2, db)\n",
        "  loss = check_loss(dw1, dw2, db)\n",
        "\n",
        "  w1 -= dw1\n",
        "  w2 -= dw2\n",
        "  b -= db\n",
        "\n",
        "  print(\"w1, w2, b =\", w1, w2, b)\n",
        "  return w1, w2, b, loss"
      ],
      "metadata": {
        "id": "DoZZKwcFSlCY"
      },
      "execution_count": 58,
      "outputs": []
    },
    {
      "cell_type": "code",
      "source": [
        "# ANDゲートへの入力値\n",
        "(x11, x12) = [0, 0]\n",
        "(x21, x22) = [0, 1]\n",
        "(x31, x32) = [1, 0]\n",
        "(x41, x42) = [1, 1]\n",
        "\n",
        "x_in = [[x11, x12], [x21, x22], [x31, x32], [x41, x42]]\n",
        "\n",
        "# ANDゲートの出力値\n",
        "t1 = 0\n",
        "t2 = 0\n",
        "t3 = 0\n",
        "t4 = 1\n",
        "\n",
        "t_in = [t1, t2, t3, t4]\n",
        "\n",
        "N = 4\n",
        "epoch = 7\n",
        "\n",
        "# 重みの初期値\n",
        "w1, w2 = [0, 0]\n",
        "b = 0\n",
        "\n",
        "for j in range(epoch):\n",
        "  classified = True\n",
        "  for i in range(N):\n",
        "    print(\"------------------------\")\n",
        "\n",
        "    x1, x2 = x_in[i]\n",
        "    t = t_in[i]\n",
        "    print(\"x1, x2, t =\", x1, x2, t)\n",
        "\n",
        "    (w1, w2, b, loss) = update_weight(x1, x2, w1, w2, b, t)\n",
        "\n",
        "    classified *= loss\n",
        "\n",
        "  print(\"------------------------\")\n",
        "  print(\"Condition =\", classified)\n",
        "\n",
        "  if classified:\n",
        "    print(\"------------------------\")\n",
        "    print(\"Found.\")\n",
        "    print(\"w1 =\", w1, \", w2 =\", w2, \", b =\", b)\n",
        "    break"
      ],
      "metadata": {
        "colab": {
          "base_uri": "https://localhost:8080/"
        },
        "id": "q1WfPFvMTpNq",
        "outputId": "c5960b82-2e0d-46c7-c598-840c2c73f25d"
      },
      "execution_count": 60,
      "outputs": [
        {
          "output_type": "stream",
          "name": "stdout",
          "text": [
            "------------------------\n",
            "x1, x2, t = 0 0 0\n",
            "dw1, dw2, db = 0 0 1\n",
            "w1, w2, b = 0 0 -1\n",
            "------------------------\n",
            "x1, x2, t = 0 1 0\n",
            "dw1, dw2, db = 0 0 0\n",
            "w1, w2, b = 0 0 -1\n",
            "------------------------\n",
            "x1, x2, t = 1 0 0\n",
            "dw1, dw2, db = 0 0 0\n",
            "w1, w2, b = 0 0 -1\n",
            "------------------------\n",
            "x1, x2, t = 1 1 1\n",
            "dw1, dw2, db = -1 -1 -1\n",
            "w1, w2, b = 1 1 0\n",
            "------------------------\n",
            "Condition = 0\n",
            "------------------------\n",
            "x1, x2, t = 0 0 0\n",
            "dw1, dw2, db = 0 0 1\n",
            "w1, w2, b = 1 1 -1\n",
            "------------------------\n",
            "x1, x2, t = 0 1 0\n",
            "dw1, dw2, db = 0 1 1\n",
            "w1, w2, b = 1 0 -2\n",
            "------------------------\n",
            "x1, x2, t = 1 0 0\n",
            "dw1, dw2, db = 0 0 0\n",
            "w1, w2, b = 1 0 -2\n",
            "------------------------\n",
            "x1, x2, t = 1 1 1\n",
            "dw1, dw2, db = -1 -1 -1\n",
            "w1, w2, b = 2 1 -1\n",
            "------------------------\n",
            "Condition = 0\n",
            "------------------------\n",
            "x1, x2, t = 0 0 0\n",
            "dw1, dw2, db = 0 0 0\n",
            "w1, w2, b = 2 1 -1\n",
            "------------------------\n",
            "x1, x2, t = 0 1 0\n",
            "dw1, dw2, db = 0 1 1\n",
            "w1, w2, b = 2 0 -2\n",
            "------------------------\n",
            "x1, x2, t = 1 0 0\n",
            "dw1, dw2, db = 1 0 1\n",
            "w1, w2, b = 1 0 -3\n",
            "------------------------\n",
            "x1, x2, t = 1 1 1\n",
            "dw1, dw2, db = -1 -1 -1\n",
            "w1, w2, b = 2 1 -2\n",
            "------------------------\n",
            "Condition = 0\n",
            "------------------------\n",
            "x1, x2, t = 0 0 0\n",
            "dw1, dw2, db = 0 0 0\n",
            "w1, w2, b = 2 1 -2\n",
            "------------------------\n",
            "x1, x2, t = 0 1 0\n",
            "dw1, dw2, db = 0 0 0\n",
            "w1, w2, b = 2 1 -2\n",
            "------------------------\n",
            "x1, x2, t = 1 0 0\n",
            "dw1, dw2, db = 1 0 1\n",
            "w1, w2, b = 1 1 -3\n",
            "------------------------\n",
            "x1, x2, t = 1 1 1\n",
            "dw1, dw2, db = -1 -1 -1\n",
            "w1, w2, b = 2 2 -2\n",
            "------------------------\n",
            "Condition = 0\n",
            "------------------------\n",
            "x1, x2, t = 0 0 0\n",
            "dw1, dw2, db = 0 0 0\n",
            "w1, w2, b = 2 2 -2\n",
            "------------------------\n",
            "x1, x2, t = 0 1 0\n",
            "dw1, dw2, db = 0 1 1\n",
            "w1, w2, b = 2 1 -3\n",
            "------------------------\n",
            "x1, x2, t = 1 0 0\n",
            "dw1, dw2, db = 0 0 0\n",
            "w1, w2, b = 2 1 -3\n",
            "------------------------\n",
            "x1, x2, t = 1 1 1\n",
            "dw1, dw2, db = 0 0 0\n",
            "w1, w2, b = 2 1 -3\n",
            "------------------------\n",
            "Condition = 0\n",
            "------------------------\n",
            "x1, x2, t = 0 0 0\n",
            "dw1, dw2, db = 0 0 0\n",
            "w1, w2, b = 2 1 -3\n",
            "------------------------\n",
            "x1, x2, t = 0 1 0\n",
            "dw1, dw2, db = 0 0 0\n",
            "w1, w2, b = 2 1 -3\n",
            "------------------------\n",
            "x1, x2, t = 1 0 0\n",
            "dw1, dw2, db = 0 0 0\n",
            "w1, w2, b = 2 1 -3\n",
            "------------------------\n",
            "x1, x2, t = 1 1 1\n",
            "dw1, dw2, db = 0 0 0\n",
            "w1, w2, b = 2 1 -3\n",
            "------------------------\n",
            "Condition = 1\n",
            "------------------------\n",
            "Found.\n",
            "w1 = 2 , w2 = 1 , b = -3\n"
          ]
        }
      ]
    },
    {
      "cell_type": "code",
      "source": [],
      "metadata": {
        "id": "7stqPZScVrVd"
      },
      "execution_count": null,
      "outputs": []
    },
    {
      "cell_type": "code",
      "source": [
        "# ORゲートへの入力値\n",
        "(x11, x12) = [0, 0]\n",
        "(x21, x22) = [0, 1]\n",
        "(x31, x32) = [1, 0]\n",
        "(x41, x42) = [1, 1]\n",
        "\n",
        "x_in = [[x11, x12], [x21, x22], [x31, x32], [x41, x42]]\n",
        "\n",
        "# ORゲートの出力値\n",
        "t1 = 0\n",
        "t2 = 1\n",
        "t3 = 1\n",
        "t4 = 1\n",
        "\n",
        "t_in = [t1, t2, t3, t4]\n",
        "\n",
        "N = 4\n",
        "epoch = 7\n",
        "\n",
        "# 重みの初期値\n",
        "w1, w2 = [0, 0]\n",
        "b = 0\n",
        "\n",
        "for j in range(epoch):\n",
        "  classified = True\n",
        "  for i in range(N):\n",
        "    print(\"------------------------\")\n",
        "\n",
        "    x1, x2 = x_in[i]\n",
        "    t = t_in[i]\n",
        "    print(\"x1, x2, t =\", x1, x2, t)\n",
        "\n",
        "    (w1, w2, b, loss) = update_weight(x1, x2, w1, w2, b, t)\n",
        "\n",
        "    classified *= loss\n",
        "\n",
        "  print(\"------------------------\")\n",
        "  print(\"Condition =\", classified)\n",
        "\n",
        "  if classified:\n",
        "    print(\"------------------------\")\n",
        "    print(\"Found.\")\n",
        "    print(\"w1 =\", w1, \", w2 =\", w2, \", b =\", b)\n",
        "    break"
      ],
      "metadata": {
        "colab": {
          "base_uri": "https://localhost:8080/"
        },
        "outputId": "ed99bbd3-38cc-418a-939b-1b8e4c5498b5",
        "id": "71pThGdgXOQC"
      },
      "execution_count": 61,
      "outputs": [
        {
          "output_type": "stream",
          "name": "stdout",
          "text": [
            "------------------------\n",
            "x1, x2, t = 0 0 0\n",
            "dw1, dw2, db = 0 0 1\n",
            "w1, w2, b = 0 0 -1\n",
            "------------------------\n",
            "x1, x2, t = 0 1 1\n",
            "dw1, dw2, db = 0 -1 -1\n",
            "w1, w2, b = 0 1 0\n",
            "------------------------\n",
            "x1, x2, t = 1 0 1\n",
            "dw1, dw2, db = 0 0 0\n",
            "w1, w2, b = 0 1 0\n",
            "------------------------\n",
            "x1, x2, t = 1 1 1\n",
            "dw1, dw2, db = 0 0 0\n",
            "w1, w2, b = 0 1 0\n",
            "------------------------\n",
            "Condition = 0\n",
            "------------------------\n",
            "x1, x2, t = 0 0 0\n",
            "dw1, dw2, db = 0 0 1\n",
            "w1, w2, b = 0 1 -1\n",
            "------------------------\n",
            "x1, x2, t = 0 1 1\n",
            "dw1, dw2, db = 0 0 0\n",
            "w1, w2, b = 0 1 -1\n",
            "------------------------\n",
            "x1, x2, t = 1 0 1\n",
            "dw1, dw2, db = -1 0 -1\n",
            "w1, w2, b = 1 1 0\n",
            "------------------------\n",
            "x1, x2, t = 1 1 1\n",
            "dw1, dw2, db = 0 0 0\n",
            "w1, w2, b = 1 1 0\n",
            "------------------------\n",
            "Condition = 0\n",
            "------------------------\n",
            "x1, x2, t = 0 0 0\n",
            "dw1, dw2, db = 0 0 1\n",
            "w1, w2, b = 1 1 -1\n",
            "------------------------\n",
            "x1, x2, t = 0 1 1\n",
            "dw1, dw2, db = 0 0 0\n",
            "w1, w2, b = 1 1 -1\n",
            "------------------------\n",
            "x1, x2, t = 1 0 1\n",
            "dw1, dw2, db = 0 0 0\n",
            "w1, w2, b = 1 1 -1\n",
            "------------------------\n",
            "x1, x2, t = 1 1 1\n",
            "dw1, dw2, db = 0 0 0\n",
            "w1, w2, b = 1 1 -1\n",
            "------------------------\n",
            "Condition = 0\n",
            "------------------------\n",
            "x1, x2, t = 0 0 0\n",
            "dw1, dw2, db = 0 0 0\n",
            "w1, w2, b = 1 1 -1\n",
            "------------------------\n",
            "x1, x2, t = 0 1 1\n",
            "dw1, dw2, db = 0 0 0\n",
            "w1, w2, b = 1 1 -1\n",
            "------------------------\n",
            "x1, x2, t = 1 0 1\n",
            "dw1, dw2, db = 0 0 0\n",
            "w1, w2, b = 1 1 -1\n",
            "------------------------\n",
            "x1, x2, t = 1 1 1\n",
            "dw1, dw2, db = 0 0 0\n",
            "w1, w2, b = 1 1 -1\n",
            "------------------------\n",
            "Condition = 1\n",
            "------------------------\n",
            "Found.\n",
            "w1 = 1 , w2 = 1 , b = -1\n"
          ]
        }
      ]
    },
    {
      "cell_type": "code",
      "source": [],
      "metadata": {
        "id": "mwOspcIlXawL"
      },
      "execution_count": null,
      "outputs": []
    }
  ]
}